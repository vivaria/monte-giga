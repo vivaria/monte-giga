{
  "nbformat": 4,
  "nbformat_minor": 0,
  "metadata": {
    "colab": {
      "provenance": [],
      "include_colab_link": true
    },
    "kernelspec": {
      "name": "python3",
      "display_name": "Python 3"
    },
    "language_info": {
      "name": "python"
    }
  },
  "cells": [
    {
      "cell_type": "markdown",
      "metadata": {
        "id": "view-in-github",
        "colab_type": "text"
      },
      "source": [
        "<a href=\"https://colab.research.google.com/github/vivaria/monte-giga/blob/main/Gigavise_Simulator.ipynb\" target=\"_parent\"><img src=\"https://colab.research.google.com/assets/colab-badge.svg\" alt=\"Open In Colab\"/></a>"
      ]
    },
    {
      "cell_type": "markdown",
      "source": [
        "## Introduction"
      ],
      "metadata": {
        "id": "EKx_5orRcr9M"
      }
    },
    {
      "cell_type": "markdown",
      "source": [
        "This notebook simulates opening hands to estimate the probability of drawing a winning combination of cards. It is designed for the Gigavise archetype in Edison.\n",
        "\n"
      ],
      "metadata": {
        "id": "Q4qU6asrbQ8s"
      }
    },
    {
      "cell_type": "markdown",
      "source": [
        "### Monte Carlo Simulations\n",
        "\n",
        "**Disclaimer**: Monte Carlo simulations can only provide _estimates_. But, this is okay, because if we generate enough simulated hands, the estimates will closely match the exact values. Plus, simulations allow us to write logic that represents complicated, branching situations.\n",
        "\n",
        "To learn more about Monte Carlo simulations, I highly recommend this [MIT Lecture](https://ocw.mit.edu/courses/6-0002-introduction-to-computational-thinking-and-data-science-fall-2016/5af20311b02eaab959fcdb7ffb5694d3_MIT6_0002F16_lec6.pdf)."
      ],
      "metadata": {
        "id": "5kFO0F5CjZqk"
      }
    },
    {
      "cell_type": "markdown",
      "source": [
        "### Estimates vs. Exact Probabilities\n",
        "\n",
        "However, if you're looking for _exact_ probabilities, you've got two options:\n",
        "\n",
        "1. Test all 2+ million hands, rather than sampling random hands. This takes about 5 minutes, and I've included it as part of this notebook.\n",
        "2. Use a \"multivariate hypergeometric calculator\".\n",
        "    - My favorite calculator used to be [Deck-u-lator](https://deckulator.appspot.com/), as it could support multiple simultaneous combos (just like this simulator can). However, I've been getting weird outputs.\n",
        "    - If you want to mess around with it, I've set up a quick example of how to use Deck-u-lator for Gigavise. To try it, open Deck-u-lator, then open settings in the top-right corner of the page, then use the \"Import\" functionality to copy and paste [this text](https://pastebin.com/DeBWkdr6) (hit `raw` then `Ctrl+A`).\n",
        "    - The test should give you a total probability of 35.6% with 6 cards drawn. However, with my simulator, I'm getting 32.98% instead when testing all combinations. Weird!\n"
      ],
      "metadata": {
        "id": "0d_RJPc1lBXS"
      }
    },
    {
      "cell_type": "markdown",
      "source": [
        "### Python, Jupyter, Google Colab, and Git\n",
        "\n",
        "This page contains **Python code**, stored in a **Jupyter notebook**, run using **Google Colab**, managed using **Git**.\n",
        "\n",
        "However, you don't need to know all of those things to be able to use this simulator. All you need to know is the basics of Google Colab. You can find out more from [this useful guide](https://mcgrawect.princeton.edu/guides/Google-Colab-Introduction.pdf) from Princeton University.\n",
        "\n",
        "Or, more simply:\n",
        "\n",
        "1. Hit \"Connect\" in the top-right corner.\n",
        "2. In the top menu, go to \"Runtime\"\n",
        "3. Hit \"Run All\"\n",
        "\n",
        "For those who are more technically inclined, you can view the source code and revision history on my GitHub account ([vivaria](https://github.com/vivaria) -> [`monte-giga`](https://github.com/vivaria/monte-giga))."
      ],
      "metadata": {
        "id": "UE_tjyWYq8_e"
      }
    },
    {
      "cell_type": "markdown",
      "source": [
        "## Simulation Code"
      ],
      "metadata": {
        "id": "ZsQoZDibcoyz"
      }
    },
    {
      "cell_type": "markdown",
      "source": [
        "The code block below defines the card variables that will be used to build the combos."
      ],
      "metadata": {
        "id": "73RGf7aW1MQT"
      }
    },
    {
      "cell_type": "code",
      "source": [
        "# We use variables (`Copy_Plant = \"Copy Plant\"`) instead of just strings\n",
        "# (\"Copy Plant\") because it provides several benefits:\n",
        "#    - Auto-completion in text editors\n",
        "#    - Catching typos (thanks to warnings/errors in editors)\n",
        "#    - Avoiding having to type out the full D.D.R. name every time!\n",
        "Copy_Plant = \"Copy Plant\"\n",
        "Cyber_Valley = \"Cyber Valley\"\n",
        "Dandylion = \"Dandylion\"\n",
        "Gigaplant = \"Gigaplant\"\n",
        "Lonefire_Blossom = \"Lonefire Blossom\"\n",
        "Nettles = \"Nettles\"\n",
        "Tytannial = \"Tytannial, Princess of Camellias\"\n",
        "D_D_R = \"D.D.R. - Different Dimension Reincarnation\"\n",
        "Foolish_Burial = \"Foolish Burial\"\n",
        "Giant_Trunade = \"Giant Trunade\"\n",
        "Gold_Sarcophagus = \"Gold Sarcophagus\"\n",
        "Heavy_Storm = \"Heavy Storm\"\n",
        "Hidden_Armory = \"Hidden Armory\"\n",
        "Miracle_Fertilizer = \"Miracle Fertilizer\"\n",
        "One_for_One = \"One for One\"\n",
        "Super_Solar_Nutrient = \"Super Solar Nutrient\"\n",
        "Supervise = \"Supervise\"\n",
        "Raigeki_Break = \"Raigeki Break\""
      ],
      "metadata": {
        "id": "1ZqDC8tX1HVi"
      },
      "execution_count": 1,
      "outputs": []
    },
    {
      "cell_type": "markdown",
      "source": [
        "The code cell below defines the ratios for each of the above cards.\n",
        "\n",
        "> - **Note 1**: Anything not defined here will be counted as \"Other\" for the sake of building hands.\n",
        "> - **Note 2**: We don't define Upstart Goblin here. Instead, we simplify the calculation by using a 37 card deck instead.\n",
        "\n",
        "You can edit the values in the cell, then re-run it (and the cells below it) in order to re-run the simulation."
      ],
      "metadata": {
        "id": "R73jJakK1ZEl"
      }
    },
    {
      "cell_type": "code",
      "source": [
        "key_card_ratios = {\n",
        "    Copy_Plant: 1, Nettles: 1,\n",
        "    Lonefire_Blossom: 2, Gigaplant: 2, Tytannial: 1,\n",
        "    Foolish_Burial: 1, Dandylion: 2,\n",
        "    Gold_Sarcophagus: 2,\n",
        "    Hidden_Armory: 3, Supervise: 3, D_D_R: 2,\n",
        "    Heavy_Storm: 1, Giant_Trunade: 1,\n",
        "    Super_Solar_Nutrient: 3,\n",
        "    Miracle_Fertilizer: 2,\n",
        "    Raigeki_Break: 3,\n",
        "    # One_for_One: 1  # No longer played in ps/marcus build\n",
        "}"
      ],
      "metadata": {
        "id": "Yy74ARYB1kGa"
      },
      "execution_count": 2,
      "outputs": []
    },
    {
      "cell_type": "markdown",
      "source": [
        "The code cell below defines the various combos we consider as a good T1 (or T2 with protection)."
      ],
      "metadata": {
        "id": "k3QX-SFV2ZHC"
      }
    },
    {
      "cell_type": "code",
      "source": [
        "# NB: Redundant combos are OK here since we only check for 1 or more combos\n",
        "combos = [\n",
        "    (Lonefire_Blossom, Supervise),\n",
        "    (Lonefire_Blossom, Hidden_Armory, Heavy_Storm),\n",
        "    (Lonefire_Blossom, Hidden_Armory, Giant_Trunade),\n",
        "    (Foolish_Burial, Super_Solar_Nutrient),\n",
        "    (Foolish_Burial, Super_Solar_Nutrient, Hidden_Armory),\n",
        "    (Foolish_Burial, Super_Solar_Nutrient, Supervise),\n",
        "    (Foolish_Burial, Miracle_Fertilizer, Hidden_Armory),\n",
        "    (Foolish_Burial, Miracle_Fertilizer, Supervise),\n",
        "    (Gold_Sarcophagus, D_D_R, Supervise),\n",
        "    (Gold_Sarcophagus, Hidden_Armory, Supervise),\n",
        "    (Gold_Sarcophagus, Hidden_Armory, D_D_R),\n",
        "    (Gold_Sarcophagus, Hidden_Armory, Hidden_Armory),\n",
        "    (Gold_Sarcophagus, D_D_R, Dandylion, Super_Solar_Nutrient),\n",
        "    (Super_Solar_Nutrient, Copy_Plant, Supervise),\n",
        "    (Super_Solar_Nutrient, Nettles, Supervise),\n",
        "    (Raigeki_Break, Dandylion, Super_Solar_Nutrient),\n",
        "    # One for One is no longer used, but we can keep the combos without it affecting anything\n",
        "    (One_for_One, Dandylion, Super_Solar_Nutrient),\n",
        "    (One_for_One, Dandylion, Lonefire_Blossom),\n",
        "    (One_for_One, Super_Solar_Nutrient, Supervise, Gigaplant),\n",
        "    (One_for_One, Super_Solar_Nutrient, Supervise, Tytannial),\n",
        "    (One_for_One, Super_Solar_Nutrient, Supervise, Cyber_Valley),\n",
        "    (One_for_One, Super_Solar_Nutrient, Hidden_Armory, Gigaplant),\n",
        "    (One_for_One, Super_Solar_Nutrient, Hidden_Armory, Tytannial),\n",
        "    (One_for_One, Super_Solar_Nutrient, Hidden_Armory, Cyber_Valley),\n",
        "    (One_for_One, Super_Solar_Nutrient, Hidden_Armory, Lonefire_Blossom),\n",
        "    (One_for_One, Super_Solar_Nutrient, Hidden_Armory, Nettles),\n",
        "]"
      ],
      "metadata": {
        "id": "P5FzgHep2cBL"
      },
      "execution_count": 3,
      "outputs": []
    },
    {
      "cell_type": "markdown",
      "source": [
        "The code cell below defines the functions that we'll use to run the simulation."
      ],
      "metadata": {
        "id": "2PVFKZ8X2iCj"
      }
    },
    {
      "cell_type": "code",
      "source": [
        "from collections import Counter\n",
        "import itertools\n",
        "import copy\n",
        "import random\n",
        "import sys\n",
        "import tqdm\n",
        "\n",
        "\n",
        "def generate_deck(n_upstarts):\n",
        "    # Generate a list of the key cards\n",
        "    key_cards = sum([[name] * n for name, n in key_card_ratios.items()], [])  # sum -> combine list of lists\n",
        "    # Fill the rest of the remaining deck space with \"Other\" cards\n",
        "    # The remaining deck space dependencs on the number of Upstart Goblins\n",
        "    # e.g. 3 Upstarts -> 37 card deck\n",
        "    deck_size = 40 - n_upstarts\n",
        "    n_others = deck_size - len(key_cards)\n",
        "    if n_others < 0:\n",
        "        raise ValueError(f\"Invalid number of Upstart Goblin. {n_upstarts} Upstarts would \"\n",
        "                         f\"result in a deck size of {deck_size}, but {min_size} cards are \"\n",
        "                         f\"needed to have the necessary key cards.\")\n",
        "    deck = key_cards + ([\"Other\"] * n_others)\n",
        "    print(f\"    Deck generated! ({n_upstarts} Upstarts -> {len(deck)} cards with {n_others} 'Other' cards)\")\n",
        "    return deck\n",
        "\n",
        "\n",
        "def how_many_combos(hand):\n",
        "    # This is the simplest way to count the number of combos\n",
        "    n_combos = sum([is_subset(combo, hand) for combo in combos])\n",
        "\n",
        "    # However, you can also edit this function to include more complex logic.\n",
        "    # For example, if you want to test Future Fusion + Alias + Dandylion, you\n",
        "    # would define the combos (e.g. Future Fusion + Super Solar Nutrient), then\n",
        "    # you could write something like this instead to test for brick hands:\n",
        "\n",
        "    # n_combos = 0\n",
        "    # for combo in combos:\n",
        "    #    if is_subset(combo, hand):\n",
        "    #        n_combos += 1\n",
        "    #        if (Future_Fusion in hand) and (is_subset([Alias], hand) or\n",
        "    #                                        is_subset([Dandylion, Dandylion], hand)):\n",
        "    #            n_combos -= 1\n",
        "\n",
        "    return n_combos\n",
        "\n",
        "\n",
        "def is_subset(combo, hand):\n",
        "    # syntax source: https://stackoverflow.com/a/16579133\n",
        "    # the syntax isn't super clear but at least it works :P\n",
        "    # we can't use `set` here because hands/combos can contain doubles\n",
        "    return not Counter(combo) - Counter(hand)\n",
        "\n",
        "\n",
        "def shuffler(deck, hand_size, n_iter):\n",
        "    # generator that will generate 'n_iter' hands\n",
        "    for _ in range(n_iter):\n",
        "        deck_copy = copy.deepcopy(deck)\n",
        "        random.shuffle(deck)\n",
        "        hand = deck[:hand_size]\n",
        "        yield hand\n",
        "\n",
        "\n",
        "def monte_carlo(deck, hand_size, n_iter):\n",
        "    print(\"    Generating hands...\")\n",
        "    totals = {n: 0 for n in range(len(combos))}\n",
        "    if n_iter == 'all':\n",
        "        hands = list(itertools.combinations(deck, hand_size))  # all combinations\n",
        "        print(f\"    All hands -> {len(hands)} hands...\")\n",
        "    else:\n",
        "        hands = shuffler(deck, hand_size, n_iter)\n",
        "\n",
        "    print(\"    Counting combos...\")\n",
        "    for hand in tqdm.tqdm(hands, unit=\"hand\"):\n",
        "        n_combos = how_many_combos(hand)\n",
        "        totals[n_combos] += 1\n",
        "    return totals"
      ],
      "metadata": {
        "id": "hrGDSw9L2c0o"
      },
      "execution_count": 4,
      "outputs": []
    },
    {
      "cell_type": "markdown",
      "source": [
        "The code cell below runs the simulation.\n",
        "\n",
        "I've written the simulation to compare 10,000 hands vs. all possible hands. That way, you can see roughly how close you get without having to spend the time re-computing all 2.3 million hands every time you want to run the simulation."
      ],
      "metadata": {
        "id": "gKcDlIXe2zYQ"
      }
    },
    {
      "cell_type": "code",
      "source": [
        "upstarts = [3]  # Optional: [0, 1, 2, 3]\n",
        "n_iters = [10_000, 'all']\n",
        "hand_size = 6\n",
        "\n",
        "combos_per_hand = {}\n",
        "for n_iter in n_iters:\n",
        "    for n_upstarts in upstarts:\n",
        "        print(f\"\\nGenerating {n_iter} sample hands for {n_upstarts} Upstart Goblin...\")\n",
        "        deck = generate_deck(n_upstarts)\n",
        "        combos_per_hand[n_upstarts] = monte_carlo(deck, hand_size, n_iter)\n",
        "        print(f\"    Combos per hand: {combos_per_hand[n_upstarts]}\")\n",
        "        n_hands = sum(combos_per_hand[n_upstarts].values())\n",
        "        n_hands_with_zero_combos = combos_per_hand[n_upstarts][0]\n",
        "        n_hands_with_one_or_more = n_hands - n_hands_with_zero_combos\n",
        "        percent_chance = (n_hands_with_one_or_more / n_hands) * 100\n",
        "        print(f\"    With {n_upstarts} Upstart Goblins, there is a \"\n",
        "              f\"({n_hands_with_one_or_more} / {n_hands} == \"\n",
        "              f\"{round(percent_chance, 3)}%) chance of opening at least 1 combo.\")\n",
        ""
      ],
      "metadata": {
        "colab": {
          "base_uri": "https://localhost:8080/"
        },
        "id": "6c34q28ZBBT3",
        "outputId": "4b2badd5-74b8-42e5-f88f-a8097ad522e3"
      },
      "execution_count": 5,
      "outputs": [
        {
          "output_type": "stream",
          "name": "stdout",
          "text": [
            "Generating 10000 sample hands for 3 Upstart Goblin...\n",
            "    Deck generated! (3 Upstarts -> 37 cards with 7 'Other' cards)\n",
            "    Generating hands...\n",
            "    Counting combos...\n"
          ]
        },
        {
          "output_type": "stream",
          "name": "stderr",
          "text": [
            "10000it [00:03, 3108.23it/s]\n"
          ]
        },
        {
          "output_type": "stream",
          "name": "stdout",
          "text": [
            "    Combos per hand: {0: 6674, 1: 2519, 2: 525, 3: 230, 4: 44, 5: 4, 6: 4, 7: 0, 8: 0, 9: 0, 10: 0, 11: 0, 12: 0, 13: 0, 14: 0, 15: 0, 16: 0, 17: 0, 18: 0, 19: 0, 20: 0, 21: 0, 22: 0, 23: 0, 24: 0, 25: 0}\n",
            "    With 3 Upstart Goblins, there is a (3326 / 10000 == 33.26%) chance of opening at least 1 combo.\n",
            "Generating all sample hands for 3 Upstart Goblin...\n",
            "    Deck generated! (3 Upstarts -> 37 cards with 7 'Other' cards)\n",
            "    Generating hands...\n",
            "    All hands -> 2324784 hands...\n",
            "    Counting combos...\n"
          ]
        },
        {
          "output_type": "stream",
          "name": "stderr",
          "text": [
            "100%|██████████| 2324784/2324784 [05:05<00:00, 7604.03it/s]\n"
          ]
        },
        {
          "output_type": "stream",
          "name": "stdout",
          "text": [
            "    Combos per hand: {0: 1557963, 1: 573153, 2: 129942, 3: 50331, 4: 10839, 5: 2124, 6: 432, 7: 0, 8: 0, 9: 0, 10: 0, 11: 0, 12: 0, 13: 0, 14: 0, 15: 0, 16: 0, 17: 0, 18: 0, 19: 0, 20: 0, 21: 0, 22: 0, 23: 0, 24: 0, 25: 0}\n",
            "    With 3 Upstart Goblins, there is a (766821 / 2324784 == 32.985%) chance of opening at least 1 combo.\n"
          ]
        }
      ]
    }
  ]
}