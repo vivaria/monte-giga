{
  "nbformat": 4,
  "nbformat_minor": 0,
  "metadata": {
    "colab": {
      "provenance": [],
      "include_colab_link": true
    },
    "kernelspec": {
      "name": "python3",
      "display_name": "Python 3"
    },
    "language_info": {
      "name": "python"
    }
  },
  "cells": [
    {
      "cell_type": "markdown",
      "metadata": {
        "id": "view-in-github",
        "colab_type": "text"
      },
      "source": [
        "<a href=\"https://colab.research.google.com/github/vivaria/monte-giga/blob/main/main.ipynb\" target=\"_parent\"><img src=\"https://colab.research.google.com/assets/colab-badge.svg\" alt=\"Open In Colab\"/></a>"
      ]
    },
    {
      "cell_type": "markdown",
      "source": [
        "Define the card variables that will be used to build the combos"
      ],
      "metadata": {
        "id": "73RGf7aW1MQT"
      }
    },
    {
      "cell_type": "code",
      "source": [
        "# use variables just to avoid duplicating strings and making silly typos or something\n",
        "Copy_Plant = \"Copy Plant\"\n",
        "Cyber_Valley = \"Cyber Valley\"\n",
        "Dandylion = \"Dandylion\"\n",
        "Gigaplant = \"Gigaplant\"\n",
        "Lonefire_Blossom = \"Lonefire Blossom\"\n",
        "Nettles = \"Nettles\"\n",
        "Tytannial = \"Tytannial, Princess of Camellias\"\n",
        "D_D_R = \"D.D.R. - Different Dimension Reincarnation\"\n",
        "Foolish_Burial = \"Foolish Burial\"\n",
        "Giant_Trunade = \"Giant Trunade\"\n",
        "Gold_Sarcophagus = \"Gold Sarcophagus\"\n",
        "Heavy_Storm = \"Heavy Storm\"\n",
        "Hidden_Armory = \"Hidden Armory\"\n",
        "Miracle_Fertilizer = \"Miracle Fertilizer\"\n",
        "One_for_One = \"One for One\"\n",
        "Super_Solar_Nutrient = \"Super Solar Nutrient\"\n",
        "Supervise = \"Supervise\"\n",
        "Raigeki_Break = \"Raigeki Break\""
      ],
      "metadata": {
        "id": "1ZqDC8tX1HVi"
      },
      "execution_count": null,
      "outputs": []
    },
    {
      "cell_type": "markdown",
      "source": [
        "Define the ratios for each of the above cards. Note: Anything not defined here will be counted as \"Other\" for the sake of building hands.\n",
        "\n",
        "You can edit the values in this cell, then re-run it (and the cells below it) in order to re-run the simulation."
      ],
      "metadata": {
        "id": "R73jJakK1ZEl"
      }
    },
    {
      "cell_type": "code",
      "source": [
        "key_card_ratios = {\n",
        "    # Pretty much locked\n",
        "    Copy_Plant: 1, Nettles: 1,\n",
        "    Lonefire_Blossom: 2, Gigaplant: 2, Tytannial: 1,\n",
        "    One_for_One: 1, Foolish_Burial: 1,\n",
        "    Dandylion: 2,\n",
        "    Gold_Sarcophagus: 2,\n",
        "    Hidden_Armory: 3, Supervise: 3,\n",
        "    Heavy_Storm: 1, Giant_Trunade: 1,\n",
        "    # Up in the air\n",
        "    Cyber_Valley: 2,\n",
        "    Super_Solar_Nutrient: 2,\n",
        "    Miracle_Fertilizer: 2,\n",
        "    D_D_R: 2,\n",
        "    Raigeki_Break: 2,\n",
        "}"
      ],
      "metadata": {
        "id": "Yy74ARYB1kGa"
      },
      "execution_count": null,
      "outputs": []
    },
    {
      "cell_type": "markdown",
      "source": [
        "Define the combos themselves"
      ],
      "metadata": {
        "id": "k3QX-SFV2ZHC"
      }
    },
    {
      "cell_type": "code",
      "source": [
        "# NB: Redundant combos are OK here since we're handling double-counting\n",
        "combos = [\n",
        "    (Lonefire_Blossom, Supervise),\n",
        "    (Lonefire_Blossom, Hidden_Armory, Heavy_Storm),\n",
        "    (Lonefire_Blossom, Hidden_Armory, Giant_Trunade),\n",
        "    (Foolish_Burial, Super_Solar_Nutrient),\n",
        "    (Foolish_Burial, Super_Solar_Nutrient, Hidden_Armory),\n",
        "    (Foolish_Burial, Super_Solar_Nutrient, Supervise),\n",
        "    (Foolish_Burial, Miracle_Fertilizer, Hidden_Armory),\n",
        "    (Foolish_Burial, Miracle_Fertilizer, Supervise),\n",
        "    (Gold_Sarcophagus, D_D_R, Supervise),\n",
        "    (Gold_Sarcophagus, Hidden_Armory, Supervise),\n",
        "    (Gold_Sarcophagus, Hidden_Armory, D_D_R),\n",
        "    (Gold_Sarcophagus, Hidden_Armory, Hidden_Armory),\n",
        "    (Gold_Sarcophagus, D_D_R, Dandylion, Super_Solar_Nutrient),\n",
        "    (Super_Solar_Nutrient, Copy_Plant, Supervise),\n",
        "    (Super_Solar_Nutrient, Nettles, Supervise),\n",
        "    (One_for_One, Dandylion, Super_Solar_Nutrient),\n",
        "    (One_for_One, Dandylion, Lonefire_Blossom),\n",
        "    (One_for_One, Super_Solar_Nutrient, Supervise, Gigaplant),\n",
        "    (One_for_One, Super_Solar_Nutrient, Supervise, Tytannial),\n",
        "    (One_for_One, Super_Solar_Nutrient, Supervise, Cyber_Valley),\n",
        "    (One_for_One, Super_Solar_Nutrient, Hidden_Armory, Gigaplant),\n",
        "    (One_for_One, Super_Solar_Nutrient, Hidden_Armory, Tytannial),\n",
        "    (One_for_One, Super_Solar_Nutrient, Hidden_Armory, Cyber_Valley),\n",
        "    (One_for_One, Super_Solar_Nutrient, Hidden_Armory, Lonefire_Blossom),\n",
        "    (One_for_One, Super_Solar_Nutrient, Hidden_Armory, Nettles),\n",
        "    (Raigeki_Break, Dandylion, Super_Solar_Nutrient)\n",
        "]"
      ],
      "metadata": {
        "id": "P5FzgHep2cBL"
      },
      "execution_count": null,
      "outputs": []
    },
    {
      "cell_type": "markdown",
      "source": [
        "Define the functions that run the simulation"
      ],
      "metadata": {
        "id": "2PVFKZ8X2iCj"
      }
    },
    {
      "cell_type": "code",
      "source": [
        "from collections import Counter\n",
        "import copy\n",
        "import random\n",
        "import sys\n",
        "\n",
        "\n",
        "def how_many_combos(hand):\n",
        "    n_combos = 0\n",
        "    for combo in combos:\n",
        "        contains_combo = not Counter(combo) - Counter(hand)\n",
        "        # MORE COMPLEX COMBO LOGIC CAN GO HERE! :D\n",
        "        if contains_combo:\n",
        "            n_combos += 1\n",
        "    return n_combos\n",
        "\n",
        "\n",
        "def monte_carlo(org_deck, hand_size, n_iter):\n",
        "    totals = {n: 0 for n in range(len(combos))}\n",
        "    for i in range(n_iter):\n",
        "        deck = copy.deepcopy(org_deck)\n",
        "        random.shuffle(deck)\n",
        "        hand = deck[:hand_size]\n",
        "        n_combos = how_many_combos(hand)\n",
        "        totals[n_combos] += 1\n",
        "        if n_combos > 0:\n",
        "            # Uncomment the line below to add debug output\n",
        "            # print(f\"  - Iter {i}: {n_combos} combos: {hand}\")  # sanity checking\n",
        "            pass\n",
        "    return totals\n",
        "\n",
        "\n",
        "def generate_deck(n_upstarts):\n",
        "    key_cards = sum([[name] * n for name, n in key_card_ratios.items()], [])  # sum -> combine list of lists\n",
        "    min_size = len(key_cards)\n",
        "    deck_size = 40 - n_upstarts\n",
        "    n_others = deck_size - min_size\n",
        "    if n_others < 0:\n",
        "        raise ValueError(f\"Invalid number of Upstart Goblin. {n_upstarts} Upstarts would \"\n",
        "                         f\"result in a deck size of {deck_size}, but {min_size} cards are \"\n",
        "                         f\"needed to have the necessary key cards.\")\n",
        "    deck = key_cards + ([\"Other\"] * n_others)\n",
        "    return deck"
      ],
      "metadata": {
        "id": "hrGDSw9L2c0o"
      },
      "execution_count": null,
      "outputs": []
    },
    {
      "cell_type": "markdown",
      "source": [
        "Run the simulation"
      ],
      "metadata": {
        "id": "gKcDlIXe2zYQ"
      }
    },
    {
      "cell_type": "code",
      "source": [
        "n_iter = 5000\n",
        "hand_size = 6\n",
        "\n",
        "combos_per_hand = {}\n",
        "for n in [0, 1, 2, 3]:\n",
        "    print(f\"Generating {n_iter} sample hands for {n} Upstart Goblin...\")\n",
        "    deck = generate_deck(n_upstarts=n)\n",
        "    combos_per_hand[n] = monte_carlo(deck, hand_size, n_iter)\n",
        "    print(f\"With {n} Upstart Goblins, there is a {round(100*((n_iter - combos_per_hand[n][0])/n_iter), 3)}% chance of opening at least 1 combo.\")"
      ],
      "metadata": {
        "colab": {
          "base_uri": "https://localhost:8080/"
        },
        "id": "OIXWlRyr20ix",
        "outputId": "12c177c6-804b-4725-af3c-fda11c5d16e1"
      },
      "execution_count": null,
      "outputs": [
        {
          "output_type": "stream",
          "name": "stdout",
          "text": [
            "Generating 5000 sample hands for 0 Upstart Goblin...\n",
            "With 0 Upstart Goblins, there is a 26.6% chance of opening at least 1 combo.\n",
            "Generating 5000 sample hands for 1 Upstart Goblin...\n",
            "With 1 Upstart Goblins, there is a 27.88% chance of opening at least 1 combo.\n",
            "Generating 5000 sample hands for 2 Upstart Goblin...\n",
            "With 2 Upstart Goblins, there is a 28.56% chance of opening at least 1 combo.\n",
            "Generating 5000 sample hands for 3 Upstart Goblin...\n",
            "With 3 Upstart Goblins, there is a 31.94% chance of opening at least 1 combo.\n"
          ]
        }
      ]
    }
  ]
}